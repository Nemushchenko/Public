{
 "cells": [
  {
   "cell_type": "markdown",
   "id": "f67ce8fb-b1d2-4058-9617-55e87bafb2f0",
   "metadata": {},
   "source": [
    "Data Science Tools and Ecosystem"
   ]
  },
  {
   "cell_type": "markdown",
   "id": "79996c07-4a25-4fe6-94fc-375c9a7b0b8a",
   "metadata": {},
   "source": [
    "In this notebook, Data Science Tools and Ecosystem are summarized."
   ]
  },
  {
   "cell_type": "markdown",
   "id": "09548db5-4f5a-4e7e-8911-c1340c7f9fa2",
   "metadata": {},
   "source": [
    "**Objectives:**\n",
    "- List of popular languages\n",
    "- Libraraies\n",
    "- Tools\n",
    "- Arithmetic expressions\n",
    "- Conslusion"
   ]
  },
  {
   "cell_type": "markdown",
   "id": "1ee5c7c2-5952-4c2e-bd2a-4d4fa7000777",
   "metadata": {},
   "source": [
    "Some of the popular languages that Data Scientists use are:\n",
    "\n",
    "    1.Python\n",
    "    2.R\n",
    "    3.SQL"
   ]
  },
  {
   "cell_type": "markdown",
   "id": "51916ac1-51b4-4409-8af0-6795c9c31396",
   "metadata": {},
   "source": [
    "Some of the commonly used libraries used by Data Scientists include:\n",
    "\n",
    "    1.Numphy\n",
    "    2.Pandas\n",
    "    3.Plotly"
   ]
  },
  {
   "attachments": {},
   "cell_type": "markdown",
   "id": "dfeecdf5-b36d-4028-b953-35059d1a7e10",
   "metadata": {},
   "source": [
    "Data Science Tools\n",
    "\n",
    "| Tools |  |\n",
    "| -------------| ------ |\n",
    "| Jupiter Notebook |\n",
    "| Plotly |\n",
    "| Github | "
   ]
  },
  {
   "cell_type": "markdown",
   "id": "9840c80e-b43e-438b-974f-486b495d319d",
   "metadata": {},
   "source": [
    "### Below are a few examples of evaluating arithmetic expressions in Python.\n",
    "This a simple arithmetic expression to mutiply then add integers"
   ]
  },
  {
   "cell_type": "code",
   "execution_count": 5,
   "id": "791677c7-7be7-422c-898b-d8b5606b14bd",
   "metadata": {},
   "outputs": [
    {
     "data": {
      "text/plain": [
       "17"
      ]
     },
     "execution_count": 5,
     "metadata": {},
     "output_type": "execute_result"
    }
   ],
   "source": [
    "(3*4)+5"
   ]
  },
  {
   "cell_type": "markdown",
   "id": "d7ace632-1ec8-4fed-82a5-4052b3cc1c00",
   "metadata": {},
   "source": [
    "This will convert 200 minutes to hours by diving by 60."
   ]
  },
  {
   "cell_type": "code",
   "execution_count": 7,
   "id": "6160fee8-839e-45f9-80ae-d9030bce35c4",
   "metadata": {},
   "outputs": [
    {
     "data": {
      "text/plain": [
       "3.3333333333333335"
      ]
     },
     "execution_count": 7,
     "metadata": {},
     "output_type": "execute_result"
    }
   ],
   "source": [
    "200/60\n"
   ]
  },
  {
   "cell_type": "markdown",
   "id": "b6dabf65-a4d1-4d4e-a93a-0908f1f6a25c",
   "metadata": {},
   "source": [
    "## Author \n",
    "Danil"
   ]
  },
  {
   "cell_type": "code",
   "execution_count": null,
   "id": "f439fe77-f9ec-4103-a1ea-8c864fa3c191",
   "metadata": {},
   "outputs": [],
   "source": []
  }
 ],
 "metadata": {
  "kernelspec": {
   "display_name": "Python 3 (ipykernel)",
   "language": "python",
   "name": "python3"
  },
  "language_info": {
   "codemirror_mode": {
    "name": "ipython",
    "version": 3
   },
   "file_extension": ".py",
   "mimetype": "text/x-python",
   "name": "python",
   "nbconvert_exporter": "python",
   "pygments_lexer": "ipython3",
   "version": "3.13.5"
  }
 },
 "nbformat": 4,
 "nbformat_minor": 5
}
